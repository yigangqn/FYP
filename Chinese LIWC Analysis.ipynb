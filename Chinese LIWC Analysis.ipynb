{
 "cells": [
  {
   "cell_type": "code",
   "execution_count": 1,
   "id": "533ce033",
   "metadata": {},
   "outputs": [],
   "source": [
    "import pandas as pd\n",
    "import seaborn as sns\n",
    "import matplotlib.pyplot as plt\n",
    "\n",
    "df_view = pd.read_csv('./LIWC-22 Results - Chinese_text_with_other_data (___ - LIWC Analysis.csv', \n",
    "                      encoding='utf-8-sig').rename(columns={\n",
    "    'gender':'Gender', 'location':'Location', 'time_1':'Time', 'gender_label':'Category'})\n",
    "\n",
    "def changeGenderLabel(label):\n",
    "    if label == 0:\n",
    "        return 'Crime-related'\n",
    "    elif label == 1:\n",
    "        return 'Gender-related'\n",
    "    else:\n",
    "        return 'Irrelevant or Ineffective'\n",
    "\n",
    "def changeGender(gender):\n",
    "    if gender == 'f':\n",
    "        return 'Woman'\n",
    "    else:\n",
    "        return 'Man'\n",
    "\n",
    "df_view['Category'] = list(map(changeGenderLabel, df_view['Category'].tolist()))\n",
    "df_view['Gender'] = list(map(changeGender, df_view['Gender'].tolist()))"
   ]
  },
  {
   "cell_type": "code",
   "execution_count": 2,
   "id": "f3caa144",
   "metadata": {},
   "outputs": [],
   "source": [
    "def formatTime(time):\n",
    "    return time.split(',')[0].replace('2022/0', '')\n",
    "\n",
    "ls_formattedTime = list(map(formatTime, df_view['Time'].tolist()))\n",
    "\n",
    "df_view['Time'] = ls_formattedTime\n",
    "\n",
    "df_view_June = df_view.drop(df_view[df_view['Time']=='7/01'].index.tolist())"
   ]
  },
  {
   "cell_type": "code",
   "execution_count": 5,
   "id": "2f60b3d8",
   "metadata": {},
   "outputs": [],
   "source": [
    "sns.set_style(\"darkgrid\")"
   ]
  },
  {
   "cell_type": "code",
   "execution_count": 54,
   "id": "f694a7e0",
   "metadata": {},
   "outputs": [],
   "source": [
    "# sns.relplot(data=df_view_June, x=\"Time\", y=\"WC\", kind=\"line\").fig.set_size_inches(8,4)"
   ]
  },
  {
   "cell_type": "markdown",
   "id": "5cbc7942",
   "metadata": {},
   "source": [
    "# Temporal Changes of Linguistic Measures : Mann-Kendall"
   ]
  },
  {
   "cell_type": "code",
   "execution_count": 3,
   "id": "7fa89b87",
   "metadata": {},
   "outputs": [],
   "source": [
    "import numpy as np\n",
    "import pymannkendall as mk\n",
    "import statistics as stat"
   ]
  },
  {
   "cell_type": "code",
   "execution_count": 4,
   "id": "863d6637",
   "metadata": {},
   "outputs": [],
   "source": [
    "df_crime_June = df_view_June[df_view_June['Category']=='Crime-related']\n",
    "df_gender_June = df_view_June[df_view_June['Category']=='Gender-related']\n",
    "df_other_June = df_view_June[df_view_June['Category']=='Irrelevant or Ineffective']\n",
    "\n",
    "ls_categories = df_view.columns.tolist()[8:]"
   ]
  },
  {
   "cell_type": "code",
   "execution_count": 5,
   "id": "cec41993",
   "metadata": {
    "scrolled": true
   },
   "outputs": [
    {
     "name": "stdout",
     "output_type": "stream",
     "text": [
      "WPS, decreasing, -75.0, *, -0.17\n",
      "pronoun, decreasing, -86.0, *, -0.10\n",
      "prep, decreasing, -81.0, *, -0.13\n",
      "quanunit, decreasing, -63.0, *, -0.04\n",
      "general_pa, decreasing, -82.0, *, -0.07\n",
      "affect, decreasing, -73.0, *, -0.12\n",
      "social, decreasing, -84.0, *, -0.12\n",
      "drives, increasing, 67.0, *, 0.06\n",
      "relativ, increasing, 73.0, *, 0.09\n",
      "space, decreasing, -80.0, *, -0.11\n",
      "time, increasing, 155.0, ***, 0.15\n",
      "informal, decreasing, -86.0, **, -0.09\n",
      "assent, decreasing, -82.0, *, -0.08\n"
     ]
    }
   ],
   "source": [
    "# Full June series + full data\n",
    "\n",
    "for cat in ls_categories:\n",
    "    ls = df_view_June[['Time', cat]].groupby(['Time']).median()\n",
    "    series = ls[cat].tolist()\n",
    "    \n",
    "    res = mk.original_test(series, alpha=0.05)\n",
    "    \n",
    "    if res.h == False:\n",
    "        continue\n",
    "    if res.p < 0.001:\n",
    "        p = '***'\n",
    "    elif res.p < 0.01:\n",
    "        p = '**'\n",
    "    elif res.p < 0.05:\n",
    "        p = '*'\n",
    "    print(\"{cat}, {trend}, {s}, {p}, {slope:.2f}\".format(\n",
    "        cat=cat, trend=res.trend, s=res.s, p=p, slope=res.slope))"
   ]
  },
  {
   "cell_type": "code",
   "execution_count": 6,
   "id": "9dacb013",
   "metadata": {},
   "outputs": [
    {
     "name": "stdout",
     "output_type": "stream",
     "text": [
      "ipron, decreasing, -111.0, ***, -0.03\n",
      "auxverb, decreasing, -96.0, **, -0.03\n",
      "negate, increasing, 87.0, **, 0.06\n",
      "particle, decreasing, -77.0, *, -0.11\n",
      "compare, increasing, 70.0, *, 0.03\n",
      "number, increasing, 74.0, *, 0.05\n",
      "social, decreasing, -79.0, *, -0.06\n",
      "cause, increasing, 112.0, ***, 0.05\n",
      "tentat, decreasing, -101.0, **, -0.06\n",
      "differ, increasing, 69.0, *, 0.05\n",
      "achieve, increasing, 106.0, **, 0.07\n",
      "risk, increasing, 91.0, **, 0.04\n",
      "relativ, decreasing, -85.0, *, -0.10\n",
      "motion, increasing, 83.0, *, 0.02\n",
      "space, decreasing, -76.0, *, -0.06\n"
     ]
    }
   ],
   "source": [
    "# Full June series + crime data\n",
    "\n",
    "for cat in ls_categories:\n",
    "    ls = df_crime_June[['Time', cat]].groupby(['Time']).median()\n",
    "    series = ls[cat].tolist()\n",
    "    \n",
    "    res = mk.original_test(series, alpha=0.05)\n",
    "    if res.h == False:\n",
    "        continue\n",
    "    if res.p < 0.001:\n",
    "        p = '***'\n",
    "    elif res.p < 0.01:\n",
    "        p = '**'\n",
    "    elif res.p < 0.05:\n",
    "        p = '*'\n",
    "    print(\"{cat}, {trend}, {s}, {p}, {slope:.2f}\".format(\n",
    "        cat=cat, trend=res.trend, s=res.s, p=p, slope=res.slope))"
   ]
  },
  {
   "cell_type": "code",
   "execution_count": 7,
   "id": "d3fc1b1c",
   "metadata": {},
   "outputs": [
    {
     "name": "stdout",
     "output_type": "stream",
     "text": [
      "ppron, decreasing, -76.0, *, -0.07\n",
      "ipron, increasing, 67.0, *, 0.04\n",
      "tensem, increasing, 91.0, **, 0.08\n",
      "modal_pa, increasing, 84.0, *, 0.05\n",
      "differ, decreasing, -66.0, *, -0.07\n",
      "bio, decreasing, -97.0, **, -0.07\n",
      "affiliation, decreasing, -72.0, *, -0.05\n",
      "time, increasing, 132.0, ***, 0.06\n"
     ]
    }
   ],
   "source": [
    "# Full June series + gender data\n",
    "\n",
    "for cat in ls_categories:\n",
    "    ls = df_gender_June[['Time', cat]].groupby(['Time']).median()\n",
    "    series = ls[cat].tolist()\n",
    "    \n",
    "    res = mk.original_test(series, alpha=0.05)\n",
    "    if res.h == False:\n",
    "        continue\n",
    "    if res.p < 0.001:\n",
    "        p = '***'\n",
    "    elif res.p < 0.01:\n",
    "        p = '**'\n",
    "    elif res.p < 0.05:\n",
    "        p = '*'\n",
    "    print(\"{cat}, {trend}, {s}, {p}, {slope:.2f}\".format(\n",
    "        cat=cat, trend=res.trend, s=res.s, p=p, slope=res.slope))"
   ]
  },
  {
   "cell_type": "code",
   "execution_count": 64,
   "id": "8c193fa0",
   "metadata": {},
   "outputs": [
    {
     "name": "stdout",
     "output_type": "stream",
     "text": [
      "*** relativ: increasing, True, p=0.0004261374183640587, s=116.0, slope=0.1826076555023923\n",
      "*** time: increasing, True, p=3.659233779984561e-05, s=127.0, slope=0.22916666666666669\n",
      "*** informal: decreasing, True, p=0.008330234815334014, s=-88.0, slope=-0.08335664335664339\n",
      "*** assent: decreasing, True, p=0.0070931131814231385, s=-90.0, slope=-0.13225274725274724\n"
     ]
    }
   ],
   "source": [
    "# Full June series + other data\n",
    "\n",
    "for cat in ls_categories:\n",
    "    ls = df_other_June[['Time', cat]].groupby(['Time']).median()\n",
    "    series = ls[cat].tolist()\n",
    "    \n",
    "    res = mk.original_test(series, alpha=0.01)\n",
    "    if res.h == False:\n",
    "        continue\n",
    "    if res.p < 0.001:\n",
    "        p = '**'\n",
    "    elif res.p < 0.01:\n",
    "        p = '*'\n",
    "    print(\"{cat}, {trend}, {s}, {p}, {slope:.2f}\".format(\n",
    "        cat=cat, trend=res.trend, s=res.s, p=p, slope=res.slope))"
   ]
  }
 ],
 "metadata": {
  "kernelspec": {
   "display_name": "Python 3 (ipykernel)",
   "language": "python",
   "name": "python3"
  },
  "language_info": {
   "codemirror_mode": {
    "name": "ipython",
    "version": 3
   },
   "file_extension": ".py",
   "mimetype": "text/x-python",
   "name": "python",
   "nbconvert_exporter": "python",
   "pygments_lexer": "ipython3",
   "version": "3.9.13"
  }
 },
 "nbformat": 4,
 "nbformat_minor": 5
}
