{
 "cells": [
  {
   "cell_type": "code",
   "execution_count": 1,
   "id": "98368119",
   "metadata": {},
   "outputs": [],
   "source": [
    "import thulac"
   ]
  },
  {
   "cell_type": "code",
   "execution_count": 15,
   "id": "07601f80",
   "metadata": {},
   "outputs": [],
   "source": [
    "import unicodedata\n",
    "import pandas as pd"
   ]
  },
  {
   "cell_type": "code",
   "execution_count": 3,
   "id": "97369e91",
   "metadata": {},
   "outputs": [],
   "source": [
    "txt = \"二十一世纪是计算社会科学的时代。1998年邓肯·瓦茨关于小世界网络的模型和1999年阿尔伯特·巴拉巴西关于幂律和无标度网络的研究复兴了网络科学。一石激起千层浪，在学术领域产生了深远的影响。对于万维网上的人类行为的研究也形成了一个子领域，被称之为万维网科学(Web Science)；伴随着社交媒体等数字媒体的发展，社会网络分析开始受到前所未有的重视，社交网络上的信息流动网络研究也引起广泛的兴趣；与此同时，机器学习和数据科学取得了突飞猛进的发展，进一步加速了计算化的浪潮；在新闻传播产业当中，数据驱动的新闻生产、计算广告和媒体推荐系统开始成为席卷世界的潮流。面对海量的互联网数据、持续困扰人类的重大社会问题、崭新的理论视角、诱人的物理学模型，在世界大战中发展起来的新闻传播学研究会走向什么地方？这构成了困扰我们的时代问题，而计算传播学正是试图回应这一时代叩问的一种尝试。邓肯·瓦茨2008年在《自然》杂志上发表了题为《一个二十一世纪的科学》的文章。瓦茨认为社会科学才是二十一世纪的科学。社会系统当中充满了海量的异质性个体构成，这些个体之间的互动使得社会过程充满了复杂性。相比于自然科学，社会科学内部的复杂性更高，也更难研究。人类对于自然现象当中的很多规律已经非常了解，但对于社会现象的理解则通常非常有限。面对这些挑战，或许很多人可以做一群鸵鸟，只盯住让自己感觉舒适的领域，当危险来的时候干脆把头埋进沙子里，但是年轻人没有逃避的理由。年轻研究者唯有敢于冒险，才能走出不一样的路来。瓦茨指出网络科学的视角和大规模的互联网数据与实验为社会科学的发展提供了前所未有的理想条件，并乐观地认为“基于因特网的传播数据和互动将会变革我们对于人类群体行为的理解”。\""
   ]
  },
  {
   "cell_type": "code",
   "execution_count": 17,
   "id": "e6b80eb5",
   "metadata": {
    "scrolled": true
   },
   "outputs": [
    {
     "data": {
      "text/html": [
       "<div>\n",
       "<style scoped>\n",
       "    .dataframe tbody tr th:only-of-type {\n",
       "        vertical-align: middle;\n",
       "    }\n",
       "\n",
       "    .dataframe tbody tr th {\n",
       "        vertical-align: top;\n",
       "    }\n",
       "\n",
       "    .dataframe thead th {\n",
       "        text-align: right;\n",
       "    }\n",
       "</style>\n",
       "<table border=\"1\" class=\"dataframe\">\n",
       "  <thead>\n",
       "    <tr style=\"text-align: right;\">\n",
       "      <th></th>\n",
       "      <th>_id</th>\n",
       "      <th>gender</th>\n",
       "      <th>location</th>\n",
       "      <th>time</th>\n",
       "      <th>uid</th>\n",
       "      <th>text</th>\n",
       "      <th>gender_label</th>\n",
       "    </tr>\n",
       "  </thead>\n",
       "  <tbody>\n",
       "    <tr>\n",
       "      <th>0</th>\n",
       "      <td>4778778284788623</td>\n",
       "      <td>m</td>\n",
       "      <td>广东</td>\n",
       "      <td>2022/06/10, 11:49:51</td>\n",
       "      <td>7319642154</td>\n",
       "      <td>一帮大男人，摸人家女的，还打人家几个女的！</td>\n",
       "      <td>2.0</td>\n",
       "    </tr>\n",
       "    <tr>\n",
       "      <th>1</th>\n",
       "      <td>4778788178625613</td>\n",
       "      <td>m</td>\n",
       "      <td>广东</td>\n",
       "      <td>2022/06/10, 12:29:10</td>\n",
       "      <td>6420207784</td>\n",
       "      <td>调戏美女被拒，恼羞成怒对人进行殴打！这帮人太嚣张了！！</td>\n",
       "      <td>2.0</td>\n",
       "    </tr>\n",
       "    <tr>\n",
       "      <th>2</th>\n",
       "      <td>4778791911558944</td>\n",
       "      <td>m</td>\n",
       "      <td>湖北</td>\n",
       "      <td>2022/06/10, 12:44:00</td>\n",
       "      <td>6078562289</td>\n",
       "      <td>简直是丢男人的脸！摸人家女的被骂有病就动手打人，还一群男人一起动手……→_→评论配图</td>\n",
       "      <td>1.0</td>\n",
       "    </tr>\n",
       "    <tr>\n",
       "      <th>3</th>\n",
       "      <td>4778793132884451</td>\n",
       "      <td>m</td>\n",
       "      <td>广东</td>\n",
       "      <td>2022/06/10, 12:48:50</td>\n",
       "      <td>7319642154</td>\n",
       "      <td>当众调戏美女遭拒，竟然恼羞成怒…</td>\n",
       "      <td>2.0</td>\n",
       "    </tr>\n",
       "    <tr>\n",
       "      <th>4</th>\n",
       "      <td>4778794802745132</td>\n",
       "      <td>f</td>\n",
       "      <td>广东</td>\n",
       "      <td>2022/06/10, 12:55:29</td>\n",
       "      <td>5752980584</td>\n",
       "      <td>俩男子索要美女微信不成，竟对其大打出手！黑社会吗？？</td>\n",
       "      <td>0.0</td>\n",
       "    </tr>\n",
       "    <tr>\n",
       "      <th>...</th>\n",
       "      <td>...</td>\n",
       "      <td>...</td>\n",
       "      <td>...</td>\n",
       "      <td>...</td>\n",
       "      <td>...</td>\n",
       "      <td>...</td>\n",
       "      <td>...</td>\n",
       "    </tr>\n",
       "    <tr>\n",
       "      <th>645859</th>\n",
       "      <td>4786515714509930</td>\n",
       "      <td>f</td>\n",
       "      <td>广东</td>\n",
       "      <td>2022/07/01, 20:15:38</td>\n",
       "      <td>7746467515</td>\n",
       "      <td>这么多天过去了，四个女孩的现状于情于理都该被披露，因为社会关心她们，她们的健康情况也是事件核...</td>\n",
       "      <td>2.0</td>\n",
       "    </tr>\n",
       "    <tr>\n",
       "      <th>645860</th>\n",
       "      <td>4786527463279012</td>\n",
       "      <td>m</td>\n",
       "      <td>山东</td>\n",
       "      <td>2022/07/01, 21:02:19</td>\n",
       "      <td>7024438800</td>\n",
       "      <td>日照</td>\n",
       "      <td>2.0</td>\n",
       "    </tr>\n",
       "    <tr>\n",
       "      <th>645861</th>\n",
       "      <td>4786528877022355</td>\n",
       "      <td>m</td>\n",
       "      <td>广西</td>\n",
       "      <td>2022/07/01, 21:07:56</td>\n",
       "      <td>7558373492</td>\n",
       "      <td>那四个女生到底去哪儿了？媒体居然连个身边人都找不到，不免让人担心吧</td>\n",
       "      <td>2.0</td>\n",
       "    </tr>\n",
       "    <tr>\n",
       "      <th>645862</th>\n",
       "      <td>4786538246574989</td>\n",
       "      <td>f</td>\n",
       "      <td>北京</td>\n",
       "      <td>2022/07/01, 21:45:10</td>\n",
       "      <td>6130628947</td>\n",
       "      <td>等后续等后续！！！！没有忘</td>\n",
       "      <td>2.0</td>\n",
       "    </tr>\n",
       "    <tr>\n",
       "      <th>645863</th>\n",
       "      <td>4786555942604635</td>\n",
       "      <td>f</td>\n",
       "      <td>北京</td>\n",
       "      <td>2022/07/01, 22:55:29</td>\n",
       "      <td>2181580185</td>\n",
       "      <td>这在封什么？？？</td>\n",
       "      <td>2.0</td>\n",
       "    </tr>\n",
       "  </tbody>\n",
       "</table>\n",
       "<p>645864 rows × 7 columns</p>\n",
       "</div>"
      ],
      "text/plain": [
       "                     _id gender location                  time         uid  \\\n",
       "0       4778778284788623      m       广东  2022/06/10, 11:49:51  7319642154   \n",
       "1       4778788178625613      m       广东  2022/06/10, 12:29:10  6420207784   \n",
       "2       4778791911558944      m       湖北  2022/06/10, 12:44:00  6078562289   \n",
       "3       4778793132884451      m       广东  2022/06/10, 12:48:50  7319642154   \n",
       "4       4778794802745132      f       广东  2022/06/10, 12:55:29  5752980584   \n",
       "...                  ...    ...      ...                   ...         ...   \n",
       "645859  4786515714509930      f       广东  2022/07/01, 20:15:38  7746467515   \n",
       "645860  4786527463279012      m       山东  2022/07/01, 21:02:19  7024438800   \n",
       "645861  4786528877022355      m       广西  2022/07/01, 21:07:56  7558373492   \n",
       "645862  4786538246574989      f       北京  2022/07/01, 21:45:10  6130628947   \n",
       "645863  4786555942604635      f       北京  2022/07/01, 22:55:29  2181580185   \n",
       "\n",
       "                                                     text  gender_label  \n",
       "0                                   一帮大男人，摸人家女的，还打人家几个女的！           2.0  \n",
       "1                             调戏美女被拒，恼羞成怒对人进行殴打！这帮人太嚣张了！！           2.0  \n",
       "2              简直是丢男人的脸！摸人家女的被骂有病就动手打人，还一群男人一起动手……→_→评论配图           1.0  \n",
       "3                                        当众调戏美女遭拒，竟然恼羞成怒…           2.0  \n",
       "4                              俩男子索要美女微信不成，竟对其大打出手！黑社会吗？？           0.0  \n",
       "...                                                   ...           ...  \n",
       "645859  这么多天过去了，四个女孩的现状于情于理都该被披露，因为社会关心她们，她们的健康情况也是事件核...           2.0  \n",
       "645860                                                 日照           2.0  \n",
       "645861                  那四个女生到底去哪儿了？媒体居然连个身边人都找不到，不免让人担心吧           2.0  \n",
       "645862                                      等后续等后续！！！！没有忘           2.0  \n",
       "645863                                           这在封什么？？？           2.0  \n",
       "\n",
       "[645864 rows x 7 columns]"
      ]
     },
     "execution_count": 17,
     "metadata": {},
     "output_type": "execute_result"
    }
   ],
   "source": [
    "df = pd.read_csv('./translated_text_with_other_data.csv', encoding='utf-8-sig')\n",
    "df_clean = df.drop(\n",
    "    columns=['followers', 're_followers', 're_gender', 're_location', 're_mid', 're_time', 're_uid', 'text_eng'])\n",
    "df_clean"
   ]
  },
  {
   "cell_type": "code",
   "execution_count": 18,
   "id": "c6145938",
   "metadata": {},
   "outputs": [],
   "source": [
    "df_clean.to_csv('original_text_with_other_data (cleaned).csv', index=False, encoding='utf-8-sig')"
   ]
  },
  {
   "cell_type": "code",
   "execution_count": 20,
   "id": "6446fd5f",
   "metadata": {},
   "outputs": [],
   "source": [
    "table = {ord(f):ord(t) for f,t in zip(\n",
    "     u'“”，；。！？【】（）《》％＃＠＆１２３４５６７８９０',\n",
    "     u'\"\",;.!?[]()\"\"%#@&1234567890')}\n",
    "\n",
    "ls_raw_text = df_clean['text'].tolist()"
   ]
  },
  {
   "cell_type": "code",
   "execution_count": 19,
   "id": "721e963d",
   "metadata": {},
   "outputs": [],
   "source": [
    "thu1 = thulac.thulac(seg_only=True)  #默认模式\n",
    "def tokenize(s):\n",
    "    return thu1.cut(s, text=True)"
   ]
  },
  {
   "cell_type": "code",
   "execution_count": 21,
   "id": "ca53ee99",
   "metadata": {},
   "outputs": [],
   "source": [
    "ls_tokenkized_text = list(map(tokenize, ls_raw_text))"
   ]
  },
  {
   "cell_type": "code",
   "execution_count": 24,
   "id": "6962c6f2",
   "metadata": {},
   "outputs": [
    {
     "data": {
      "text/plain": [
       "['一 帮 大 男人 ， 摸人 家 女 的 ， 还 打 人 家 几 个 女 的 ！',\n",
       " '调戏 美女 被 拒 ， 恼羞成怒 对 人 进行 殴打 ！ 这 帮 人 太 嚣张 了 ！ ！',\n",
       " '简直 是 丢 男人 的 脸 ！ 摸 人 家 女 的 被 骂 有 病 就 动手 打 人 ， 还 一 群 男人 一起 动手 … … → _ → 评论 配 图',\n",
       " '当众 调戏 美女 遭拒 ， 竟然 恼羞成怒 …',\n",
       " '俩 男子 索要 美女 微信 不 成 ， 竟 对 其 大打出手 ！ 黑社会 吗 ？ ？',\n",
       " '网友 投稿 ： 搭讪 骚扰 不 成 ， 一 群 人 对 吃饭 女子 进行 殴打 ！ ！ （ 早点 官方 通报 ， 别 再 和谐 了 ）',\n",
       " '老公 们 在 干 嘛',\n",
       " '事发 唐山 ， 男子 耍流氓 搭讪 未遂 ， 被 女子 怒斥 ， 气急败坏 ， 直接 一 群 人 上 来 就 打 人 ！ 太 嚣张 了 ~ （ 具体 以 官方 通报 为准 ）',\n",
       " '网友 ： 调戏 美女 被 拒 ， 恼羞成怒 对 人 进行 殴打 ！ 这 帮 人 太 嚣张 了',\n",
       " '辽源 水务 和 辽源 社保局 有 什 么 把 柄 在 人手 上 吗 感觉 好多 内情 哦～ 吃 瓜 吃 瓜']"
      ]
     },
     "execution_count": 24,
     "metadata": {},
     "output_type": "execute_result"
    }
   ],
   "source": [
    "ls_tokenkized_text[0:10]"
   ]
  },
  {
   "cell_type": "code",
   "execution_count": 26,
   "id": "f0555a71",
   "metadata": {},
   "outputs": [],
   "source": [
    "def transformPunc(s):\n",
    "    return s.translate(table)\n",
    "\n",
    "# transformPunc(u'一 帮 大 男人 ， 摸人 家 女 的 ， 还 打 人 家 几 个 女 的 ！')"
   ]
  },
  {
   "cell_type": "code",
   "execution_count": 28,
   "id": "e239b164",
   "metadata": {},
   "outputs": [
    {
     "data": {
      "text/plain": [
       "645864"
      ]
     },
     "execution_count": 28,
     "metadata": {},
     "output_type": "execute_result"
    }
   ],
   "source": [
    "ls_tokenized_text_transformed = list(map(transformPunc, ls_tokenkized_text))\n",
    "\n",
    "len(ls_tokenized_text_transformed)"
   ]
  },
  {
   "cell_type": "code",
   "execution_count": 30,
   "id": "3841e033",
   "metadata": {},
   "outputs": [],
   "source": [
    "df_clean['text'] = ls_tokenized_text_transformed"
   ]
  },
  {
   "cell_type": "code",
   "execution_count": 32,
   "id": "edb89d5d",
   "metadata": {},
   "outputs": [],
   "source": [
    "df_clean.to_csv('Chinese_text_with_other_data (cleaned + tokenized).csv', index=False, encoding='utf-8-sig')"
   ]
  }
 ],
 "metadata": {
  "kernelspec": {
   "display_name": "Python 3 (ipykernel)",
   "language": "python",
   "name": "python3"
  },
  "language_info": {
   "codemirror_mode": {
    "name": "ipython",
    "version": 3
   },
   "file_extension": ".py",
   "mimetype": "text/x-python",
   "name": "python",
   "nbconvert_exporter": "python",
   "pygments_lexer": "ipython3",
   "version": "3.9.13"
  }
 },
 "nbformat": 4,
 "nbformat_minor": 5
}
